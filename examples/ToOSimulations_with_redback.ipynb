{
 "cells": [
  {
   "cell_type": "markdown",
   "id": "ca02b38c",
   "metadata": {},
   "source": [
    "## Notebook to show how to use redback to generate toO style observations for any model. \n",
    "\n",
    "You will need to install Redback. Instructions available at https://redback.readthedocs.io/en/latest/. I suggest installing from source via GitHub."
   ]
  },
  {
   "cell_type": "code",
   "execution_count": null,
   "id": "ba8c5fc6",
   "metadata": {},
   "outputs": [],
   "source": [
    "import redback\n",
    "import pandas as pd\n",
    "from redback.simulate_transients import SimulateOpticalTransient\n",
    "import matplotlib.pyplot as plt\n",
    "import numpy as np"
   ]
  },
  {
   "cell_type": "markdown",
   "id": "f675ed98",
   "metadata": {},
   "source": [
    "We first design a strategy. This takes the form of a dataframe which specifies sky pointings, time, limiting mags, and the bands"
   ]
  },
  {
   "cell_type": "code",
   "execution_count": null,
   "id": "6bcc6760",
   "metadata": {},
   "outputs": [],
   "source": [
    "# specify the number of pointings per band \n",
    "num_obs = {'lsstg': 10, 'lsstr':10, 'lssti':10, 'lsstz':10, 'lsstu':10}\n",
    "\n",
    "# specify the cadence in days for each band\n",
    "average_cadence = {'lsstg': 1.5, 'lsstr': 5.0, 'lssti': 2.5, 'lsstz':1, 'lsstu':1}\n",
    "\n",
    "# specify any scatter on the cadence, the time of the observation will be \n",
    "# taken from a Gaussian with the scatter as sigma\n",
    "cadence_scatter = {'lsstg': 0.5, 'lsstr':0.5, 'lssti':0.5, 'lsstz':1, 'lsstu':1}\n",
    "\n",
    "# Specify limiting 5 sigma depth magnitude\n",
    "limiting_magnitudes = {'lsstg': 25.0, 'lsstr': 24.5, 'lssti': 23.0, 'lsstu':25, 'lsstz':23}\n",
    "\n",
    "# We now use redback to make a pointings table from the above information\n",
    "# We set RA and DEC to always be at the location of the transient \n",
    "# but we can change this to incorporate the fov/full survey\n",
    "ra = 1.0 \n",
    "dec = 1.5\n",
    "# We also set the start time of the observation/survey strategy \n",
    "initMJD = 59581.0\n",
    "pointings = redback.simulate_transients.make_pointing_table_from_average_cadence(\n",
    "    ra=ra, dec=dec, num_obs=num_obs, average_cadence=average_cadence,\n",
    "    cadence_scatter=cadence_scatter, limiting_magnitudes=limiting_magnitudes, \n",
    "    initMJD=59581.0)\n",
    "print(pointings)"
   ]
  },
  {
   "cell_type": "markdown",
   "id": "058eb929",
   "metadata": {},
   "source": [
    "The pointings are just a dataframe with the specific columns shown above. You could just as easily make your own up or read a table from somewhere else. The above is just meant to be a helpful function to make these pointings"
   ]
  },
  {
   "cell_type": "markdown",
   "id": "e200dfbe",
   "metadata": {},
   "source": [
    "We now specify a redback model (or a user implemented model) and the parameters we want to simulate given the above cadences. "
   ]
  },
  {
   "cell_type": "code",
   "execution_count": null,
   "id": "9bee8aac",
   "metadata": {},
   "outputs": [],
   "source": [
    "model_kwargs = {}\n",
    "# Any redback model can be referred to as a string. \n",
    "# If the user has their own model, they can pass a function here instead. \n",
    "# There are over a 100 models implemented in redback, lots of models for kilonovae, GRB afterglows, \n",
    "# supernovae, TDEs and other things\n",
    "model = 'one_component_kilonova'\n",
    "# Load the default prior for this model in redback and sample from it to get 1 set of parameters. \n",
    "# We can sample from the default prior for this model for a random kilonova. \n",
    "parameters = redback.priors.get_priors(model=model).sample()\n",
    "\n",
    "# We fix a few parameters here to create a nice looking kilonova. \n",
    "# You can change any of the parameters here or add additional keyword arguments \n",
    "# to change some physical assumptions. Please refer to the documentation for this and units etc\n",
    "parameters['mej'] = 0.05\n",
    "parameters['t0_mjd_transient'] = 59582.0\n",
    "parameters['redshift'] = 0.075\n",
    "parameters['t0'] = parameters['t0_mjd_transient']\n",
    "parameters['temperature_floor'] = 3000\n",
    "parameters['kappa'] = 1\n",
    "parameters['vej'] = 0.2\n",
    "parameters['ra'] = 1.0\n",
    "parameters['dec'] = 1.5\n",
    "print(parameters)"
   ]
  },
  {
   "cell_type": "markdown",
   "id": "3ca22933",
   "metadata": {},
   "source": [
    "We now simulate a kilonova with the above parameters and the strategy designed above."
   ]
  },
  {
   "cell_type": "code",
   "execution_count": null,
   "id": "d955414c",
   "metadata": {},
   "outputs": [],
   "source": [
    "# Specify some additional settings. \n",
    "# A threshold for data points to consider detections based on a SNR. \n",
    "snr_threshold = 5.0\n",
    "\n",
    "# A maximum time to evaluate the transient, \n",
    "# this is useful if you do not trust the model past a certain time or do not want to generate detections past this time. \n",
    "end_transient_time = 20\n",
    "\n",
    "# Simulate by passing in the parameters of the model, the model string (or a python function), \n",
    "# and the pointings generated above.\n",
    "kn_sim = SimulateOpticalTransient.simulate_transient(model='one_component_kilonova_model',\n",
    "                                       parameters=parameters, pointings_database=pointings,\n",
    "                                       survey=None, model_kwargs=model_kwargs,\n",
    "                                        end_transient_time=20., snr_threshold=5.0)"
   ]
  },
  {
   "cell_type": "code",
   "execution_count": null,
   "id": "1b3eae74",
   "metadata": {},
   "outputs": [],
   "source": [
    "# We can print the observations that were simulated to see what the data looks like. \n",
    "# This will include extra stuff like non-detections etc\n",
    "print(kn_sim.observations)"
   ]
  },
  {
   "cell_type": "code",
   "execution_count": null,
   "id": "7c535c0e",
   "metadata": {},
   "outputs": [],
   "source": [
    "# We can also save the observations to a file using the save_transient method.\n",
    "# This will save the observations to a csv file in a 'simulated' directory alongside the csv file\n",
    "# specifying the injection parameters.\n",
    "kn_sim.save_transient(name='my_kilonova')"
   ]
  },
  {
   "cell_type": "code",
   "execution_count": null,
   "id": "90532c0b",
   "metadata": {},
   "outputs": [],
   "source": [
    "kn_object = redback.transient.Kilonova.from_simulated_optical_data(name='my_kilonova', data_mode='magnitude')\n",
    "\n",
    "# Make a dictionary for colors on the plot\n",
    "band_colors = {'lsstg':'#4daf4a', 'lsstu':'#377eb8', 'lsstr':'#e41a1c', \n",
    "               'lsstz':'#a65628', 'lssti':'#ff7f00'}\n",
    "ax = kn_object.plot_data(show=False, band_colors=band_colors)\n",
    "# ax.set_ylim(22, 19)"
   ]
  },
  {
   "cell_type": "markdown",
   "id": "821caf8f",
   "metadata": {},
   "source": [
    "The above plot only shows the detection and not the input lightcurve or non-detections. Let's add those in. As the axes is returned with can use the attributes stored in the kn_sim object directly."
   ]
  },
  {
   "cell_type": "code",
   "execution_count": null,
   "id": "77448ec0",
   "metadata": {},
   "outputs": [],
   "source": [
    "# Make a dictionary for colors on the plot\n",
    "band_colors = {'lsstg':'#4daf4a', 'lsstu':'#377eb8', 'lsstr':'#e41a1c', \n",
    "               'lsstz':'#a65628', 'lssti':'#ff7f00'}\n",
    "ax = kn_object.plot_data(show=False, band_colors=band_colors)\n",
    "ax.set_ylim(28, 22)\n",
    "upper_limits = kn_sim.observations[kn_sim.observations['detected'] != 1.0]\n",
    "data = kn_sim.observations[kn_sim.observations['detected'] == 1.0]\n",
    "for band in band_colors.keys():\n",
    "    up = upper_limits[upper_limits['band'] == band]\n",
    "    dd = data[data['band'] == band]\n",
    "    plt.scatter(dd['time (days)'], dd['magnitude'], s=100, marker='.', color=band_colors[band])\n",
    "    plt.scatter(up['time (days)'], up['limiting_magnitude'], s=100, marker=r'$\\downarrow$', color=band_colors[band])\n",
    "\n",
    "    \n",
    "# We can also plot the true data \n",
    "tt = np.linspace(0.1, 20, 100)\n",
    "# specify output_format \n",
    "parameters['output_format'] = 'magnitude'\n",
    "for band in band_colors.keys():\n",
    "    parameters['bands'] = band\n",
    "    out = redback.transient_models.kilonova_models.one_component_kilonova_model(tt, **parameters)\n",
    "    plt.plot(tt, out, color=band_colors[band], alpha=0.3)\n",
    "\n",
    "plt.xlim(0.1, 10)\n"
   ]
  },
  {
   "cell_type": "markdown",
   "id": "f2582882",
   "metadata": {},
   "source": [
    "You can now use the simulated object and do parameter estimation. There are multiple examples available at \n",
    "https://github.com/nikhil-sarin/redback/tree/master/examples. Alongside other examples to simulate full survey or single lightcurves for Rubin or ZTF \n",
    "https://github.com/nikhil-sarin/redback/blob/master/examples/simulate_survey.py\n",
    "https://github.com/nikhil-sarin/redback/blob/master/examples/simulate_single_transient_in_rubin.py\n"
   ]
  }
 ],
 "metadata": {
  "kernelspec": {
   "display_name": "Python 3 (ipykernel)",
   "language": "python",
   "name": "python3"
  },
  "language_info": {
   "codemirror_mode": {
    "name": "ipython",
    "version": 3
   },
   "file_extension": ".py",
   "mimetype": "text/x-python",
   "name": "python",
   "nbconvert_exporter": "python",
   "pygments_lexer": "ipython3",
   "version": "3.10.7"
  }
 },
 "nbformat": 4,
 "nbformat_minor": 5
}
