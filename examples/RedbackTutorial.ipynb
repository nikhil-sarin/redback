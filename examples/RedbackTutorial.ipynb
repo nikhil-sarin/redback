{
 "cells": [
  {
   "cell_type": "markdown",
   "id": "9f292d87",
   "metadata": {
    "slideshow": {
     "slide_type": "slide"
    }
   },
   "source": [
    "# Redback: an open source bayesian inference package for fitting electromagnetic transients. \n",
    "\n",
    "## How redback can be useful to you.\n",
    "- Download data for supernovae, tidal disruption events, gamma-ray burst afterglows, kilonovae, prompt emission from different catalogs/telescopes; Swift, BATSE, Open access catalogs. Users can also provide their own data or use simulated data\n",
    "\n",
    "- Redback processes the data into a homogeneous transient object, plotting lightcurves and doing other processing.\n",
    "\n",
    "- The user can then fit one of the models implemented in redback. Or fit their own model. Models for several different types of electromagnetic transients are implemented and range from simple analytical models to numerical surrogates.\n",
    "\n",
    "- All models are implemented as functions and can be used to simulate populations, without needing to provide data. This way redback can be used simply as a tool to simulate realistic populations, no need to actually fit anything.\n",
    "\n",
    "- [Bilby](https://lscsoft.docs.ligo.org/bilby/index.html) under the hood. Can easily switch samplers/likelihoods etc. Over 15 samplers are implemented and the list continues to grow. \n",
    "\n",
    "- Fitting returns a homogenous result object, with functionality to plot lightcurves/walkers/corner and the posterior/evidence/credible interval etc. This way redback results can feed into hierarchical analysis of populations of transients or be used in reweighting.\n",
    "\n",
    "### Online documentation\n",
    "\n",
    "- #### [Installation](https://redback.readthedocs.io/en/latest/)\n",
    "- #### [Examples](https://github.com/nikhil-sarin/redback/tree/master/examples)\n",
    "- #### [Documentation](https://redback.readthedocs.io/en/latest/)\n",
    "\n",
    "### Contributing \n",
    "- Redback is currently at version 1.0, the version that accompanied the first paper. If you are interested in contributing please join the redback [slack](https://join.slack.com/t/redback-group/shared_invite/zt-21rsoa26s-kibI8MiA1JiIKM0wCMp5rQ) and get in touch with [me](mailto:nikhil.sarin@su.se?subject=Contributing%20to%20redback).\n",
    "- All contributors at the alpha stage will be invited to be co-authors of the first paper.\n",
    "\n",
    "<!-- ![](notebook_images/RedbackLogo.png) -->\n",
    "<img src=\"notebook_images/RedbackLogo.png\" alt=\"drawing\" width=\"500\"/>"
   ]
  },
  {
   "cell_type": "code",
   "execution_count": null,
   "id": "dafb7022",
   "metadata": {
    "slideshow": {
     "slide_type": "subslide"
    }
   },
   "outputs": [],
   "source": [
    "import redback \n",
    "import pandas as pd\n",
    "from bilby.core.prior import PriorDict\n",
    "import bilby\n",
    "import matplotlib.pyplot as plt\n",
    "import numpy as np"
   ]
  },
  {
   "cell_type": "markdown",
   "id": "ef87be51",
   "metadata": {
    "slideshow": {
     "slide_type": "slide"
    }
   },
   "source": [
    "## Downloading data from different catalogs e.g., the open access catalogs"
   ]
  },
  {
   "cell_type": "code",
   "execution_count": null,
   "id": "97dbb890",
   "metadata": {
    "slideshow": {
     "slide_type": "slide"
    }
   },
   "outputs": [],
   "source": [
    "kne = 'at2017gfo'\n",
    "\n",
    "data = redback.get_data.get_kilonova_data_from_open_transient_catalog_data(transient=kne)\n",
    "data"
   ]
  },
  {
   "cell_type": "markdown",
   "id": "fd29b6d2",
   "metadata": {
    "slideshow": {
     "slide_type": "slide"
    }
   },
   "source": [
    "The user is returned the data in a pandas dataframe. The data is also saved in a sensible way. There are two files; the raw data file and the processed data file where we do some basic processing and make it homogenous. Note that the data returned here is a simple pandas dataframe and can be manipulated in arbitrary ways.\n",
    "\n",
    "For example, let's say I just want to see the i band data"
   ]
  },
  {
   "cell_type": "code",
   "execution_count": null,
   "id": "e3dd1623",
   "metadata": {
    "slideshow": {
     "slide_type": "subslide"
    }
   },
   "outputs": [],
   "source": [
    "data[data['band']=='i']"
   ]
  },
  {
   "cell_type": "markdown",
   "id": "dc50a630",
   "metadata": {
    "slideshow": {
     "slide_type": "slide"
    }
   },
   "source": [
    "### Can similarly download data from LASAIR (ZTF/Vera Rubin broker), Afterglows from Swift, Prompt grb from Swift and BATSE.  "
   ]
  },
  {
   "cell_type": "code",
   "execution_count": null,
   "id": "0eef6a7a",
   "metadata": {
    "slideshow": {
     "slide_type": "subslide"
    }
   },
   "outputs": [],
   "source": [
    "GRB = '070809'\n",
    "# Flux density, flux data\n",
    "data = redback.get_data.get_bat_xrt_afterglow_data_from_swift(grb=GRB, data_mode=\"flux\")\n",
    "data"
   ]
  },
  {
   "cell_type": "code",
   "execution_count": null,
   "id": "d91aa879",
   "metadata": {
    "slideshow": {
     "slide_type": "slide"
    }
   },
   "outputs": [],
   "source": [
    "sne = \"SN2011kl\"\n",
    "data = redback.get_data.get_supernova_data_from_open_transient_catalog_data(sne)\n",
    "data"
   ]
  },
  {
   "cell_type": "code",
   "execution_count": null,
   "id": "d5383937",
   "metadata": {
    "slideshow": {
     "slide_type": "slide"
    }
   },
   "outputs": [],
   "source": [
    "data = redback.get_data.get_lasair_data(transient=\"ZTF19aagqkrq\", transient_type=\"afterglow\")\n",
    "data"
   ]
  },
  {
   "cell_type": "markdown",
   "id": "2229ba96",
   "metadata": {},
   "source": [
    "## Transient objects"
   ]
  },
  {
   "cell_type": "markdown",
   "id": "e5c1a187",
   "metadata": {
    "slideshow": {
     "slide_type": "slide"
    }
   },
   "source": [
    "Since this data is just a simple dataframe, you could play around with it yourself to create plots etc. However, we provide functionality to load this data into a 'transient' object. Providing methods for plotting and other functionality. \n",
    "\n",
    "There are 7 different types of transient objects implemented in redback, which all have unique functionality for the specific type of transient. \n",
    "\n",
    "#### There are two parent classes\n",
    "\n",
    "- Transient: For any type of generic transient\n",
    "- OpticalTransient: For any type of generic optical transient\n",
    "\n",
    "#### Five more targeted transient classes\n",
    "\n",
    "- SGRB\n",
    "- LGRB\n",
    "- Supernova \n",
    "- Kilonova\n",
    "- Tidal disruption event\n",
    "- Prompt \n",
    "\n",
    "These classes come with lots of functionality and lookup tables which provide metadata useful for further analysis, such as redshift, T90, start time, etc. They also allow other processing such as converting flux to luminosity. \n",
    "\n",
    "For each of the transients we have different data_modes which determines what data to fit, plot labels, type of likelihood to use etc. We note that the latter two can be changed by users if desired. The data modes are luminosity, flux, flux_density, magnitude, counts, time tagged events"
   ]
  },
  {
   "cell_type": "markdown",
   "id": "ba7dc547",
   "metadata": {
    "slideshow": {
     "slide_type": "slide"
    }
   },
   "source": [
    "### Creating a kilonova object for at2017gfo"
   ]
  },
  {
   "cell_type": "code",
   "execution_count": null,
   "id": "710440b5",
   "metadata": {
    "slideshow": {
     "slide_type": "subslide"
    }
   },
   "outputs": [],
   "source": [
    "kne = 'at2017gfo'\n",
    "kilonova = redback.kilonova.Kilonova.from_open_access_catalogue(\n",
    "    name=kne, data_mode=\"flux_density\", active_bands=np.array([\"g\", \"i\"]))\n",
    "kilonova.plot_data(save=False, plot_others=False)"
   ]
  },
  {
   "cell_type": "markdown",
   "id": "a78ee0d5",
   "metadata": {
    "slideshow": {
     "slide_type": "subslide"
    }
   },
   "source": [
    "Here we created the kilonova transient object using the open access catalogue data, with the `data mode == 'flux_density'`. \n",
    "\n",
    "Here we have also specified `active_bands=np.array(['g', 'i')`, which sets the rest of the data to be inactive, i.e., not used in the fitting. All bands/frequencies are active by default."
   ]
  },
  {
   "cell_type": "markdown",
   "id": "e7e5ace8",
   "metadata": {
    "slideshow": {
     "slide_type": "slide"
    }
   },
   "source": [
    "**The function returns the axes so user can change the ylim etc from the default themselves as they would for any other matplotlib plot. Or pass it into the function as a keyword argument**"
   ]
  },
  {
   "cell_type": "code",
   "execution_count": null,
   "id": "2894fe68",
   "metadata": {
    "slideshow": {
     "slide_type": "subslide"
    }
   },
   "outputs": [],
   "source": [
    "kilonova = redback.kilonova.Kilonova.from_open_access_catalogue(\n",
    "    name=kne, data_mode=\"magnitude\", active_bands=np.array([\"g\", \"i\", \"r\", \"z\"]))\n",
    "ax = kilonova.plot_data(save=False, show=False, plot_others=True)\n",
    "ax.set_ylim(25,16)\n",
    "plt.show()"
   ]
  },
  {
   "cell_type": "code",
   "execution_count": null,
   "id": "59c545fe",
   "metadata": {
    "slideshow": {
     "slide_type": "subslide"
    }
   },
   "outputs": [],
   "source": [
    "kilonova = redback.kilonova.Kilonova.from_open_access_catalogue(\n",
    "    name=kne, data_mode=\"magnitude\", active_bands=np.array([\"g\", \"i\", \"r\", \"z\"]))\n",
    "ax = kilonova.plot_data(save=False, show=False, plot_others=False, xlim_high=10)"
   ]
  },
  {
   "cell_type": "markdown",
   "id": "512f5dfd",
   "metadata": {
    "slideshow": {
     "slide_type": "slide"
    }
   },
   "source": [
    "#### Many other plotting aesthetic things can just be passed into the function. \n",
    "\n",
    "#### We also provide a simple plot_multiband method. Which will plot one band per panel."
   ]
  },
  {
   "cell_type": "code",
   "execution_count": null,
   "id": "83ab427c",
   "metadata": {
    "slideshow": {
     "slide_type": "subslide"
    }
   },
   "outputs": [],
   "source": [
    "fig, axes = plt.subplots(3, 2, sharex=True, sharey=True, figsize=(12, 8))\n",
    "ax = kilonova.plot_multiband(figure=fig, axes=axes,\n",
    "                        filters=[\"g\", \"r\", \"i\", \"z\", \"y\", \"J\"], save=False)"
   ]
  },
  {
   "cell_type": "markdown",
   "id": "ba956007",
   "metadata": {
    "slideshow": {
     "slide_type": "subslide"
    }
   },
   "source": [
    "Here we also passed in our own constructred figure and axes to get the exact look. If you dont pass these in redback will figure it out on its own. Again, the axes are returned so users can also tinker with the plot further. Or pass things as keyword arguments in the function."
   ]
  },
  {
   "cell_type": "markdown",
   "id": "2071e856",
   "metadata": {
    "slideshow": {
     "slide_type": "slide"
    }
   },
   "source": [
    "#### We can do the same thing with afterglows, supernovae, tde's etc etc"
   ]
  },
  {
   "cell_type": "code",
   "execution_count": null,
   "id": "3f8eedac",
   "metadata": {
    "slideshow": {
     "slide_type": "subslide"
    }
   },
   "outputs": [],
   "source": [
    "afterglow = redback.afterglow.SGRB.from_swift_grb(name=GRB, data_mode='flux',\n",
    "                                                  truncate=True, truncate_method=\"prompt_time_error\")\n",
    "afterglow.analytical_flux_to_luminosity()\n",
    "ax = afterglow.plot_data()"
   ]
  },
  {
   "cell_type": "markdown",
   "id": "a22cd542",
   "metadata": {
    "slideshow": {
     "slide_type": "slide"
    }
   },
   "source": [
    "We can also plot/fit data in time in MJD, for scenario's when you don't know the true burst start time. This is done via using `use_phase_model=True`. When we get to fitting, this flag will ensure we use the right data and also infer the start time of the transient."
   ]
  },
  {
   "cell_type": "code",
   "execution_count": null,
   "id": "d5cfa869",
   "metadata": {
    "slideshow": {
     "slide_type": "subslide"
    }
   },
   "outputs": [],
   "source": [
    "supernova = redback.supernova.Supernova.from_open_access_catalogue(name=sne, data_mode='flux_density', \n",
    "                                                                   use_phase_model=True)\n",
    "ax = supernova.plot_multiband(filters=[\"J\", \"H\", \"g\", \"i\"])"
   ]
  },
  {
   "cell_type": "markdown",
   "id": "04d72b36",
   "metadata": {
    "slideshow": {
     "slide_type": "slide"
    }
   },
   "source": [
    "#### Sometimes the user may have their own data that they simulated or was their own private data. \n",
    "\n",
    "All redback transient objects can be constructed by just passing in the relevant properties. Enabling the same functionality as above (and to use in fitting..)"
   ]
  },
  {
   "cell_type": "code",
   "execution_count": null,
   "id": "6e010f4b",
   "metadata": {
    "slideshow": {
     "slide_type": "subslide"
    }
   },
   "outputs": [],
   "source": [
    "data = pd.read_csv('example_data/grb_afterglow.csv')\n",
    "data['band'] = 'x'\n",
    "data['band'].iloc[data['frequency'] == 2.418000e+17] = 'X-ray'\n",
    "data['band'].iloc[data['frequency'] == 3.000000e+09] = 'Radio 3 GHz'\n",
    "data['band'].iloc[data['frequency'] == 6.000000e+09] = 'Radio 6 GHz'\n",
    "data['band'].iloc[data['frequency'] == 5.090000e+14] = 'V'\n",
    "data['band'].iloc[data['frequency'] == 3.730000e+14] = 'i'\n",
    "time_d = data['time'].values\n",
    "flux_density = data['flux'].values\n",
    "frequency = data['frequency'].values\n",
    "flux_density_err = data['flux_err'].values\n",
    "bands = data['band'].values\n",
    "data_mode = 'flux_density'\n",
    "\n",
    "name = '170817A'\n",
    "\n",
    "afterglow = redback.transient.Afterglow(\n",
    "    name=name, data_mode=data_mode, time=time_d,\n",
    "    flux_density=flux_density, flux_density_err=flux_density_err, frequency=frequency)\n",
    "\n",
    "ax = afterglow.plot_data(band_labels = ['Radio 3Ghz', 'Radio 6Ghz', 'i', 'V', 'X-ray'])"
   ]
  },
  {
   "cell_type": "markdown",
   "id": "fc399341",
   "metadata": {
    "slideshow": {
     "slide_type": "slide"
    }
   },
   "source": [
    "Like all other plots users can change things like plot labels, limits etc etc either by passing in a keyword argument or by modifying the axes of the plot."
   ]
  },
  {
   "cell_type": "code",
   "execution_count": null,
   "id": "62400e15",
   "metadata": {
    "slideshow": {
     "slide_type": "subslide"
    }
   },
   "outputs": [],
   "source": [
    "afterglow = redback.transient.Afterglow(\n",
    "    name=name, data_mode=data_mode, time=time_d,\n",
    "    flux_density=flux_density, flux_density_err=flux_density_err, frequency=frequency)\n",
    "\n",
    "ax = afterglow.plot_multiband(band_labels = ['Radio 3Ghz', 'Radio 6Ghz', 'i', 'V', 'X-ray'])"
   ]
  },
  {
   "cell_type": "markdown",
   "id": "f77b25f3",
   "metadata": {},
   "source": [
    "## Models/Priors"
   ]
  },
  {
   "cell_type": "markdown",
   "id": "07a4cb54",
   "metadata": {
    "slideshow": {
     "slide_type": "slide"
    }
   },
   "source": [
    "We could also simulate the observations ourselves, then load each set of observations into a transient object and then do inference!!\n",
    "\n",
    "To simulate observations, we need a model.\n",
    "\n",
    "In redback we have already implemented a lot of different models, which can be combined or modified to create another model easily. These models range from phenomenological, to analytical, semi-analytical to numerical surrogates built with machine learning techniques. Implementing a new model is probably the easiest way to contribute to redback!\n",
    "\n",
    "**Specifically, the models already included are**\n",
    "\n",
    "**Afterglow models**:\n",
    "\n",
    "- Several structured jet models implemented in afterglowpy.\n",
    "- Tophat jet implemented in afterglowpy.\n",
    "- Cocoon\n",
    "- Kilonova afterglow\n",
    "- Refreshed shocks\n",
    "- Several more\n",
    "\n",
    "\n",
    "**Kilonova models**\n",
    "\n",
    "- One/two/three component kilonova models\n",
    "- two_layer_stratified_kilonova\n",
    "- power_law_stratified_kilonova\n",
    "- kilonova heating rate\n",
    "- One component BNS ejecta relation\n",
    "- Two component BNS ejecta relation\n",
    "- One component NSBH ejecta relation\n",
    "- Two component NSBH ejecta relation\n",
    "- Polytrope EOS ejecta relation\n",
    "- Aspherical kilonova\n",
    "- Three component model - ejecta relation\n",
    "- Three component model - temperature floor\n",
    "- Three component model - temperature floor and diffusion\n",
    "- Metzger 2017\n",
    "- Surrogates of several different numerical simulations e.g., Possis, Sedona\n",
    "- Several more \n",
    "\n",
    "**Supernova models**\n",
    "\n",
    "- Arnett\n",
    "- CSM\n",
    "- CSM + Ni\n",
    "- Basic magnetar powered\n",
    "- General magnetar powered\n",
    "- Supernova 1A\n",
    "- Supernova 1C\n",
    "- SNcosmo\n",
    "- magnetar + nickel\n",
    "- SLSN\n",
    "- exponential powerlaw\n",
    "- Shock cooling + Arnett\n",
    "- Several more\n",
    "\n",
    "**Shock models**\n",
    "\n",
    "- Shock cooling\n",
    "- Thermal synchrotron\n",
    "- Shocked cocoon\n",
    "\n",
    "**Magnetar driven ejecta models**\n",
    "\n",
    "- Metzger magnetar driven kilonova\n",
    "- Mergernova\n",
    "- Trapped magnetar\n",
    "- General magnetar driven kilonova\n",
    "- Evolving magnetar magnetar driven kilonova\n",
    "- Evolving magnetar mergernova\n",
    "\n",
    "**Millisecond magnetar models**\n",
    "\n",
    "- vacuum dipole magnetar\n",
    "- magnetar with variable braking index\n",
    "- GW + EM magnetar\n",
    "- evolving magnetar\n",
    "- magnetar with radiative losses\n",
    "- collapsing magnetar\n",
    "- piecewise magnetar\n",
    "\n",
    "**Tidal disruption models**\n",
    "\n",
    "- Simple analytic fallback\n",
    "- Surrogate from numerical simulation\n",
    "- cooling envelope\n",
    "\n",
    "**Phenomenological/fireball models/other exotica**\n",
    "\n",
    "- Skew gaussian\n",
    "- Skew exponential \n",
    "- fred\n",
    "- fred_extended\n",
    "- Gaussian\n",
    "- 1-6 component piecewise power law\n",
    "- exponential_powerlaw\n",
    "\n",
    "We note that these models can output in flux_density or magnitude set by the keyword argument output_format or using the appropriate bolometric/flux function.\n",
    "\n",
    "Alongside these models we also include some general models which can many of the above models as a base_model\n",
    "\n",
    "- Homologous expansion\n",
    "- Thin shell\n",
    "- Extinction models\n",
    "- Phase models\n",
    "- Phase + extinction models\n",
    "- Gaussian process base model: Will be soon implemented.\n",
    "\n",
    "You can also make several modifications to all models using dependency injections or switches\n",
    "\n",
    "#### For a full up to date list of models implemented in redback, look at the [API](https://redback.readthedocs.io/en/latest/index.html)"
   ]
  },
  {
   "cell_type": "markdown",
   "id": "a58346b1",
   "metadata": {
    "slideshow": {
     "slide_type": "slide"
    }
   },
   "source": [
    "All models in redback are implemented as simple functions that do not require any other redback infrastructure. They can be used to simulate populations, get a sense of the impact of different parameters, or for debugging."
   ]
  },
  {
   "cell_type": "code",
   "execution_count": null,
   "id": "a207de5d",
   "metadata": {
    "slideshow": {
     "slide_type": "subslide"
    }
   },
   "outputs": [],
   "source": [
    "from redback.constants import day_to_s\n",
    "from redback.model_library import all_models_dict\n",
    "\n",
    "model = 'arnett_bolometric'\n",
    "\n",
    "function = all_models_dict[model]\n",
    "time = np.logspace(2, 8, 100)/day_to_s\n",
    "bolometric_luminosity = function(time, f_nickel=0.2,\n",
    "                    mej=30, vej=10000, kappa=2, kappa_gamma=1e2)\n",
    "plt.loglog(time, bolometric_luminosity)\n",
    "plt.xlabel('Time [days]')\n",
    "plt.ylabel(r'$L_{\\rm bol}$')"
   ]
  },
  {
   "cell_type": "markdown",
   "id": "6bdc9307",
   "metadata": {
    "slideshow": {
     "slide_type": "slide"
    }
   },
   "source": [
    "### Every function is documented, describing what the inputs are; their units etc etc. For some models we have also implemented a simple way to get a link to the paper describing it which provides further details. \n",
    "\n",
    "![](notebook_images/Docs.png)"
   ]
  },
  {
   "cell_type": "code",
   "execution_count": null,
   "id": "ee73a12c",
   "metadata": {
    "slideshow": {
     "slide_type": "subslide"
    }
   },
   "outputs": [],
   "source": [
    "print(function.citation)"
   ]
  },
  {
   "cell_type": "markdown",
   "id": "ceac30ff",
   "metadata": {
    "slideshow": {
     "slide_type": "slide"
    }
   },
   "source": [
    "We can also simulate an entire population by creating a population prior (what distribution each of the parameters for the entire population are drawn from) and simulate lightcurves for all of them. This does not capture realistic survey features e.g., cadence but that can be easily incorporated.\n",
    "\n",
    "### Redback uses bilby for priors and there are plenty to choose from.\n",
    "\n",
    "**Analytical priors**\n",
    "\n",
    "- Beta\n",
    "- Categorical\n",
    "- Cauchy\n",
    "- ChiSquared\n",
    "- Cosine\n",
    "- DeltaFunction\n",
    "- Exponential\n",
    "- FermiDirac\n",
    "- Gamma\n",
    "- Gaussian\n",
    "- HalfGaussian\n",
    "- LogGaussian\n",
    "- LogUniform\n",
    "- Logistic\n",
    "- Lorentzian\n",
    "- PowerLaw\n",
    "- Sine\n",
    "- StudentT\n",
    "- SymmetricLogUniform\n",
    "- TruncatedGaussian\n",
    "- Uniform\n",
    "\n",
    "\n",
    "**Interpolated or from file**\n",
    "\n",
    "Users can also create a prior from a grid of values i.e., an interpolated_prior.\n",
    "See documentation [here](https://lscsoft.docs.ligo.org/bilby/api/bilby.core.prior.interpolated.Interped.html#bilby.core.prior.interpolated.Interped).\n",
    "\n",
    "Every function has a default prior which can be loaded via"
   ]
  },
  {
   "cell_type": "code",
   "execution_count": null,
   "id": "7d1563b8",
   "metadata": {
    "slideshow": {
     "slide_type": "subslide"
    }
   },
   "outputs": [],
   "source": [
    "priors = redback.priors.get_priors(model=model)\n",
    "priors"
   ]
  },
  {
   "cell_type": "markdown",
   "id": "4c8249e3",
   "metadata": {
    "slideshow": {
     "slide_type": "slide"
    }
   },
   "source": [
    "This prior object is essentially a dictionary of the different priors describing the shape, range, latex labels and units of each of the parameters. You can overwrite any of the priors as you would a standard python dictionary"
   ]
  },
  {
   "cell_type": "code",
   "execution_count": null,
   "id": "13debf4c",
   "metadata": {
    "slideshow": {
     "slide_type": "subslide"
    }
   },
   "outputs": [],
   "source": [
    "priors['f_nickel'] = 0.5"
   ]
  },
  {
   "cell_type": "markdown",
   "id": "d6ad44d5",
   "metadata": {
    "slideshow": {
     "slide_type": "slide"
    }
   },
   "source": [
    "We can sample randomly from the prior to create fake lightcurves"
   ]
  },
  {
   "cell_type": "code",
   "execution_count": null,
   "id": "ada60ffe",
   "metadata": {
    "slideshow": {
     "slide_type": "subslide"
    }
   },
   "outputs": [],
   "source": [
    "samples = priors.sample(100)\n",
    "samples = pd.DataFrame(samples)\n",
    "samples"
   ]
  },
  {
   "cell_type": "markdown",
   "id": "d3a4f109",
   "metadata": {
    "slideshow": {
     "slide_type": "slide"
    }
   },
   "source": [
    "We can place complex constraints on our prior to mimic a realistic survey. Say for example I wanted to create a population where none of the population was dimmer than 24th mag at peak in the r mag and that the peak was less than 50 days."
   ]
  },
  {
   "cell_type": "code",
   "execution_count": null,
   "id": "cd8be1dc",
   "metadata": {
    "slideshow": {
     "slide_type": "subslide"
    }
   },
   "outputs": [],
   "source": [
    "def brightness_constraint(parameters):\n",
    "    \"\"\"\n",
    "    Ensure the Supernova is not dimmer than 24th Mag at peak and that the peak is at less than 150 days.\n",
    "    \"\"\"\n",
    "    converted_parameters = parameters.copy()\n",
    "    converted_parameters = pd.DataFrame(converted_parameters)\n",
    "    kwargs = {}\n",
    "    kwargs['frequency'] = redback.utils.bands_to_frequency('r')\n",
    "    kwargs['bands'] = 'sdssr'\n",
    "    kwargs['output_format'] = 'magnitude'\n",
    "    tdays = np.linspace(1, 500, 50)\n",
    "    mags = np.zeros(len(converted_parameters))\n",
    "    peak_t = np.zeros(len(converted_parameters))\n",
    "    for x in range(len(mags)):\n",
    "        mag = function(tdays, **converted_parameters.iloc[x], **kwargs)\n",
    "        mags[x] = np.min(mag)\n",
    "        peak_t[x] = tdays[np.argmin(mag)]\n",
    "    converted_parameters['peak_constraint'] = 24 - mags\n",
    "    converted_parameters['peak_time'] = 150 - peak_t\n",
    "    return converted_parameters\n",
    "\n",
    "model = 'arnett'\n",
    "\n",
    "function = all_models_dict[model]\n",
    "\n",
    "\n",
    "priors = PriorDict(conversion_function=brightness_constraint)\n",
    "priors['peak_constraint'] = bilby.core.prior.Constraint(0, 5)\n",
    "priors['peak_time'] = bilby.core.prior.Constraint(0, 50)\n",
    "priors.update(redback.priors.get_priors(model))\n",
    "priors['redshift'] = 0.01\n",
    "population_samples = pd.DataFrame(priors.sample(50))"
   ]
  },
  {
   "cell_type": "markdown",
   "id": "541bba68",
   "metadata": {},
   "source": [
    "## Simulation"
   ]
  },
  {
   "cell_type": "markdown",
   "id": "4db8979d",
   "metadata": {
    "slideshow": {
     "slide_type": "subslide"
    }
   },
   "source": [
    "#### We can now go through and create r band lightcurves for all of them. We can also similarly create light curves for any other filter. You can also use your own model as the 'engine'. "
   ]
  },
  {
   "cell_type": "markdown",
   "id": "2de19bcb",
   "metadata": {},
   "source": [
    "The raw lightcurve can then be processed through redback.simulation to create realistic observations for real surveys/telescopes e.g., Rubin, Roman, ZTF or any other configuration built from user inputs."
   ]
  },
  {
   "cell_type": "code",
   "execution_count": null,
   "id": "f07cb54e",
   "metadata": {
    "slideshow": {
     "slide_type": "subslide"
    }
   },
   "outputs": [],
   "source": [
    "for x in range(len(population_samples)):\n",
    "    tdays = np.linspace(1, 500, 50)\n",
    "    kwargs = {}\n",
    "    kwargs['frequency'] = redback.utils.bands_to_frequency('r')\n",
    "    kwargs['bands'] = 'sdssr'\n",
    "    kwargs['output_format'] = 'magnitude'\n",
    "    mags = function(tdays, **population_samples.iloc[x], **kwargs)\n",
    "    plt.plot(tdays, mags, c='red', alpha=0.25)\n",
    "plt.gca().invert_yaxis()\n",
    "plt.xlabel('Time [days]')\n",
    "plt.ylabel('Magnitude')\n",
    "plt.xlim(1,500)\n",
    "plt.ylim(35, 16)"
   ]
  },
  {
   "cell_type": "markdown",
   "id": "8fbf59aa",
   "metadata": {},
   "source": [
    "## Inference"
   ]
  },
  {
   "cell_type": "markdown",
   "id": "0a7d658a",
   "metadata": {},
   "source": [
    "With stuff about data/priors out of the way. Let's now turn to the primary purpose of redback: **inference**. \n",
    "\n",
    "#### Redback workflow for fitting\n",
    "- Download the data from a public catalog, or provide your own data, or simulate it.\n",
    "\n",
    "- Load the data into a homogenous transient object, which does the necessary processing and provides simple way to plot data. This also finds other metadata such as host galaxy/redshift/sky position if available on a public database\n",
    "\n",
    "- Specify a model (either already implemented in redback or their own function).\n",
    "\n",
    "- Write a prior or use the default priors.\n",
    "    - Every model has default priors already implemented\n",
    "    - Place constraints on the prior if necessary. These could be constraints related to the region the model is physical/something about the observation/non detections (this is one way but there are others), or where a numerical surrogate is trained on etc. \n",
    "\n",
    "- Specify a sampler and sampler settings as in bilby\n",
    "\n",
    "- Fit model!\n",
    "\n",
    "- The fit returns a homogenous result object, which can be used for further diagnostics, and provides a simple way to plot the fit.\n"
   ]
  },
  {
   "cell_type": "markdown",
   "id": "9405fd4a",
   "metadata": {
    "slideshow": {
     "slide_type": "slide"
    }
   },
   "source": [
    "#### The examples provide more detailed complicated examples of fitting different transients. Here in the interest of both time and to reduce complexity; I'll show a really simple/fast example."
   ]
  },
  {
   "cell_type": "code",
   "execution_count": null,
   "id": "1b7d5ccf",
   "metadata": {
    "slideshow": {
     "slide_type": "slide"
    }
   },
   "outputs": [],
   "source": [
    "# first specify some basic sampler settings, model name, transient name etc etc \n",
    "\n",
    "model = 'evolving_magnetar'\n",
    "GRB = '070809'\n",
    "# number of live points. Lower is faster but worse. Higher is slower but more reliable. \n",
    "nlive = 500\n",
    "sampler = 'nestle'\n",
    "\n",
    "#download the data \n",
    "data = redback.get_data.get_bat_xrt_afterglow_data_from_swift(grb=GRB, data_mode=\"flux\")\n",
    "\n",
    "# create the afterglow object; \n",
    "# truncate the data using the prompt_time_error method to get rid of \n",
    "# any erronous BAT data points not belonging to the transient.\n",
    "afterglow = redback.afterglow.SGRB.from_swift_grb(name=GRB, data_mode='flux',\n",
    "                                                  truncate=True, truncate_method=\"prompt_time_error\")\n",
    "# convert flux data to luminosity using an analytical approximation. \n",
    "# We could also use a numerical method utilising CIAO/Sherpa and the spectrum. \n",
    "afterglow.analytical_flux_to_luminosity()\n",
    "\n",
    "# load the default priors for the model \n",
    "priors = redback.priors.get_priors(model=model)\n",
    "\n",
    "result = redback.fit_model(model=model, sampler=sampler, nlive=nlive, transient=afterglow,\n",
    "                           prior=priors, sample='rslice', resume=True)\n"
   ]
  },
  {
   "cell_type": "markdown",
   "id": "b70451ac",
   "metadata": {
    "slideshow": {
     "slide_type": "slide"
    }
   },
   "source": [
    "#### The inference procedure will print out a bunch of things which are helpful diagnostics and indicate how things are processing, what settings are used and when things will finish. Most samplers have checkpointing so if for some reason your computer crashes/supercomputer goes down; progress is not lost.\n",
    "\n",
    "The fitting returns a result object which has a lot of different attributes and methods allowing further diagnostics."
   ]
  },
  {
   "cell_type": "markdown",
   "id": "e982fbf6",
   "metadata": {
    "slideshow": {
     "slide_type": "subslide"
    }
   },
   "source": [
    "**A dataframe of the posterior values**"
   ]
  },
  {
   "cell_type": "code",
   "execution_count": null,
   "id": "b10f07af",
   "metadata": {
    "slideshow": {
     "slide_type": "subslide"
    }
   },
   "outputs": [],
   "source": [
    "result.posterior"
   ]
  },
  {
   "cell_type": "markdown",
   "id": "075ea511",
   "metadata": {
    "slideshow": {
     "slide_type": "subslide"
    }
   },
   "source": [
    "**Other metadata/methods**"
   ]
  },
  {
   "cell_type": "code",
   "execution_count": null,
   "id": "d0a37431",
   "metadata": {
    "slideshow": {
     "slide_type": "subslide"
    }
   },
   "outputs": [],
   "source": [
    "print(result.log_evidence)\n",
    "print(result.log_evidence_err)\n",
    "print(result.bayesian_model_dimensionality)\n",
    "print(result.covariance_matrix)\n",
    "print(result.information_gain)\n",
    "print(result.max_autocorrelation_time)\n",
    "print(result.transient)\n",
    "print(result.transient_type)\n",
    "print(result.occam_factor(result.priors))"
   ]
  },
  {
   "cell_type": "markdown",
   "id": "25bb75f8",
   "metadata": {},
   "source": [
    "## Plotting"
   ]
  },
  {
   "cell_type": "markdown",
   "id": "113eae3f",
   "metadata": {
    "slideshow": {
     "slide_type": "slide"
    }
   },
   "source": [
    "**Plotting methods**"
   ]
  },
  {
   "cell_type": "code",
   "execution_count": null,
   "id": "ad195825",
   "metadata": {
    "slideshow": {
     "slide_type": "slide"
    }
   },
   "outputs": [],
   "source": [
    "result.plot_corner(parameters=['p0', 'muinf', 'mu0', 'alpha_1', 'tm'], save=False, priors=True)\n",
    "plt.show()"
   ]
  },
  {
   "cell_type": "code",
   "execution_count": null,
   "id": "70824790",
   "metadata": {
    "slideshow": {
     "slide_type": "slide"
    }
   },
   "outputs": [],
   "source": [
    "result.plot_lightcurve(random_models=100)"
   ]
  },
  {
   "cell_type": "code",
   "execution_count": null,
   "id": "d95591df",
   "metadata": {},
   "outputs": [],
   "source": [
    "result.plot_residual(random_models=100)"
   ]
  },
  {
   "cell_type": "markdown",
   "id": "b39c976d",
   "metadata": {
    "slideshow": {
     "slide_type": "slide"
    }
   },
   "source": [
    "#### Method to plot multiband lightcurve; 1 band/frequency on each panel with fit going through them.\n",
    "\n",
    "`result.plot_multiband_lightcurve`\n",
    "\n",
    "#### Method to plot the transient data; i.e., same thing as the transient object plot_data and plot_multiband.\n",
    "\n",
    "`result.plot_data`\n",
    "\n",
    "`result.plot_multiband`\n",
    "\n",
    "#### Method to plot the CDF and PDF of all parameters/log_likelihood and log_prior\n",
    "\n",
    "`result.plot_marginals`\n",
    "\n",
    "#### Method to plot the walkers if using an MCMC sampler \n",
    "\n",
    "`result.plot_walkers`\n"
   ]
  },
  {
   "cell_type": "markdown",
   "id": "572edf3b",
   "metadata": {
    "slideshow": {
     "slide_type": "slide"
    }
   },
   "source": [
    "#### Other result features\n",
    "\n",
    "- Reweighting to a different prior/model.\n",
    "\n",
    "- Changing formats; creating an arviz result object.\n",
    "\n",
    "- Making pp plots for a population\n",
    "\n",
    "- Hierarchical inference/recycling functionality.\n"
   ]
  },
  {
   "cell_type": "code",
   "execution_count": null,
   "id": "74b43f57",
   "metadata": {
    "slideshow": {
     "slide_type": "slide"
    }
   },
   "outputs": [],
   "source": [
    "redback.utils.calc_one_dimensional_median_and_error_bar(result.posterior['alpha_1'], \n",
    "                                                        quantiles=(0.16,0.84), fmt='.2f').string"
   ]
  },
  {
   "cell_type": "markdown",
   "id": "c63db8f5",
   "metadata": {
    "slideshow": {
     "slide_type": "slide"
    }
   },
   "source": [
    "#### You can also load a result file from different analyses enabling the same functionality as above."
   ]
  },
  {
   "cell_type": "code",
   "execution_count": null,
   "id": "98fa88aa",
   "metadata": {
    "slideshow": {
     "slide_type": "slide"
    }
   },
   "outputs": [],
   "source": [
    "path = 'GRBData/afterglow/luminosity/evolving_magnetar/GRB070809_result.json'\n",
    "my_result = redback.result.read_in_result(path)"
   ]
  },
  {
   "cell_type": "markdown",
   "id": "e4d392a9",
   "metadata": {},
   "source": [
    "## Contributing/Plans"
   ]
  },
  {
   "cell_type": "markdown",
   "id": "4a1569d3",
   "metadata": {
    "slideshow": {
     "slide_type": "slide"
    }
   },
   "source": [
    "**Redback is open source**. Anybody wishing to contribute should reach out to [Nikhil Sarin](mailto:nikhil.sarin@su.se?subject=Contributing%20to%20redback). The contributions can range from simply testing/bug fixing the package to implementing new features/models etc. \n"
   ]
  },
  {
   "cell_type": "markdown",
   "id": "56d3dba4",
   "metadata": {
    "slideshow": {
     "slide_type": "slide"
    }
   },
   "source": [
    "## Learning more\n",
    "\n",
    "\n",
    "There are several examples showing the different abilities of redback in more detail. \n",
    "\n",
    "- broadband_afterglow_private_data_example\n",
    "- fit_your_own_model_example\n",
    "- kilonova_example\n",
    "- magnetar_boosted_example\n",
    "- magnetar_example\n",
    "- prompt_example\n",
    "- supernova_example\n",
    "- tde_example\n",
    "- SN2011kl_sample_in_t0_example\n",
    "- Sampling with constraint priors\n",
    "- homologous expansion\n",
    "- Simulating a population with redback\n",
    "- Simulating a kilonova in Rubin\n",
    "- Creating and sampling with new ejecta relations\n",
    "- Joint likelihood analysis\n",
    "- Gaussian process with a redback base model using george/celerite\n",
    "- Several more \n",
    "\n",
    "**Check out all the examples [here](https://github.com/nikhil-sarin/redback/tree/master/examples). There is also extensive [documentation](https://redback.readthedocs.io/en/latest/).**"
   ]
  },
  {
   "cell_type": "markdown",
   "id": "781b70d1",
   "metadata": {
    "slideshow": {
     "slide_type": "slide"
    }
   },
   "source": [
    "<img src=\"notebook_images/RedbackLogo.png\" alt=\"drawing\" width=\"500\"/>"
   ]
  }
 ],
 "metadata": {
  "kernelspec": {
   "display_name": "Python 3 (ipykernel)",
   "language": "python",
   "name": "python3"
  },
  "language_info": {
   "codemirror_mode": {
    "name": "ipython",
    "version": 3
   },
   "file_extension": ".py",
   "mimetype": "text/x-python",
   "name": "python",
   "nbconvert_exporter": "python",
   "pygments_lexer": "ipython3",
   "version": "3.10.7"
  }
 },
 "nbformat": 4,
 "nbformat_minor": 5
}
